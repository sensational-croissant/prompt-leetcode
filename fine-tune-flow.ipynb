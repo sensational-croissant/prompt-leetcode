{
 "cells": [
  {
   "cell_type": "markdown",
   "metadata": {},
   "source": [
    "# OpenAI Fine-tuning API Flow Example\n",
    "This notebook provides a baseline example of how to use the OpenAI Fine-tuning API to fine-tune a model using a custom dataset. Included is a process for creating training and testing data in JASONL format from a CSV file and how to fine-tune and use a model using the data.\n",
    "## Setup\n",
    "To use this notebook, you will need to have an OpenAI API key. You can generate one at [platform.openai.com](https://platform.openai.com/). Save the key in a file called `.env` in the same directory as this notebook under the variable name `OPENAI_API_KEY`.\n",
    "\n",
    "## Documentation\n",
    "- OpenAI Fine-tuning Guide: https://platform.openai.com/docs/guides/fine-tuning\n",
    "- OpenAI Fine-tuning API reference:  https://beta.openai.com/docs/api-reference/fine-tuning/\n",
    "\n",
    "## Sources\n",
    "This example borrows liberally from [\"How to fine-tune chat models\"](https://github.com/openai/openai-cookbook/blob/main/examples/How_to_finetune_chat_models.ipynb) by OpenAI."
   ]
  },
  {
   "cell_type": "code",
   "execution_count": 9,
   "metadata": {},
   "outputs": [],
   "source": [
    "# Import necessary libraries\n",
    "import os\n",
    "import pandas as pd\n",
    "from openai import OpenAI\n",
    "from dotenv import load_dotenv\n",
    "\n",
    "# Load the .env file\n",
    "load_dotenv()\n",
    "\n",
    "# OpenAI API key\n",
    "client = OpenAI(api_key=os.environ.get(\"OPENAI_API_KEY\", \"<your OpenAI API key if not set as env var>\"))"
   ]
  },
  {
   "cell_type": "code",
   "execution_count": 10,
   "metadata": {},
   "outputs": [],
   "source": [
    "# Data setup\n",
    "data_folder = \"data\"\n",
    "training_file_name = os.path.join(data_folder, \"review_finetune_training.jsonl\")\n",
    "validation_file_name = os.path.join(data_folder, \"review_finetune_validation.jsonl\")"
   ]
  },
  {
   "cell_type": "markdown",
   "metadata": {},
   "source": [
    "## 1. Upload files\n",
    "\n",
    "Use the `client.files.create()` method to upload the training and validation data files to the OpenAI API. For each uploaded file, the endpoint will return a file ID that you can use to reference the file in subsequent API calls.\n",
    "\n",
    "__NOTE:__ The validation file is optional.\n",
    "\n",
    "API documentation: https://platform.openai.com/docs/api-reference/files/create"
   ]
  },
  {
   "cell_type": "code",
   "execution_count": 11,
   "metadata": {},
   "outputs": [
    {
     "name": "stdout",
     "output_type": "stream",
     "text": [
      "Training file ID: file-I207HvFD4R6CEhjhURkIQn8H\n",
      "Validation file ID: file-cmpTcTZnqapeDwWQRt7fNNxv\n"
     ]
    }
   ],
   "source": [
    "with open(training_file_name, \"rb\") as training_fd:\n",
    "    training_response = client.files.create(\n",
    "        file=training_fd, purpose=\"fine-tune\"\n",
    "    )\n",
    "\n",
    "training_file_id = training_response.id\n",
    "\n",
    "with open(validation_file_name, \"rb\") as validation_fd:\n",
    "    validation_response = client.files.create(\n",
    "        file=validation_fd, purpose=\"fine-tune\"\n",
    "    )\n",
    "validation_file_id = validation_response.id\n",
    "\n",
    "print(\"Training file ID:\", training_file_id)\n",
    "print(\"Validation file ID:\", validation_file_id)"
   ]
  },
  {
   "cell_type": "markdown",
   "metadata": {},
   "source": [
    "## 2. Create fine-tuning job\n",
    "Use the `client.fine_tuning.jobs.create()` method to create a fine-tuning job. The method accepts the following parameters:\n",
    "- `model`: The model ID of the model you want to fine-tune.\n",
    "- `training_file`: The ID of the training file you uploaded in the previous step.\n",
    "- `validation_file`: The ID of the validation file you uploaded in the previous step (optional).\n",
    "- `suffix`: A suffix to append to the fine-tuned model name (optional).\n",
    "- `seed`: A seed to use for reproducibility (optional).\n",
    "\n",
    "You can also set hyperparameters for the fine-tuning job. At present they are:\n",
    "- `batch_size`: The batch size to use during fine-tuning.\n",
    "- `learning_rate_multiplier`: A multiplier to apply to the learning rate of the model.\n",
    "- `n_epochs`: The number of epochs to train the model for.\n",
    "\n",
    "Finally, you can enable integrations. At present they are limited to Weights and Biases. See the API documentation for more information.\n",
    "\n",
    "__NOTE:__ The fine-tuning job takes time - often 10 minutes or more.\n",
    "\n",
    "API documentation: https://platform.openai.com/docs/api-reference/fine-tuning/create"
   ]
  },
  {
   "cell_type": "code",
   "execution_count": 12,
   "metadata": {},
   "outputs": [
    {
     "name": "stdout",
     "output_type": "stream",
     "text": [
      "Job ID: ftjob-9AunUqVfu5en9M7cIJeEAhEI\n",
      "Status: validating_files\n"
     ]
    }
   ],
   "source": [
    "response = client.fine_tuning.jobs.create(\n",
    "    training_file=training_file_id,\n",
    "    validation_file=validation_file_id,\n",
    "    model=\"gpt-3.5-turbo\",\n",
    "    suffix=\"via-api\",\n",
    ")\n",
    "\n",
    "job_id = response.id\n",
    "\n",
    "print(\"Job ID:\", response.id)\n",
    "print(\"Status:\", response.status)"
   ]
  },
  {
   "cell_type": "markdown",
   "metadata": {},
   "source": [
    "## 3. Check job status\n",
    "The fine-tuning job will take some time to complete, and that time is influenced by factors out of your control and without transparency. \n",
    "\n",
    "You can check the status of the job using the `client.fine_tuning.jobs.retrieve()` method. The method accepts the job ID as a parameter and returns the status of the job.\n",
    "\n",
    "API documentation: https://platform.openai.com/docs/api-reference/fine-tuning/retrieve"
   ]
  },
  {
   "cell_type": "code",
   "execution_count": 13,
   "metadata": {},
   "outputs": [
    {
     "name": "stdout",
     "output_type": "stream",
     "text": [
      "Job ID: ftjob-9AunUqVfu5en9M7cIJeEAhEI\n",
      "Status: validating_files\n",
      "Trained Tokens: None\n"
     ]
    }
   ],
   "source": [
    "response = client.fine_tuning.jobs.retrieve(job_id)\n",
    "\n",
    "print(\"Job ID:\", response.id)\n",
    "print(\"Status:\", response.status)\n",
    "print(\"Trained Tokens:\", response.trained_tokens)"
   ]
  },
  {
   "cell_type": "markdown",
   "metadata": {},
   "source": [
    "You can also list the events of a job using the `client.fine_tuning.jobs.list_events()` method. The method accepts the job ID as a parameter and returns a list of events associated with the job.\n",
    "\n",
    "The method has the following parameters:\n",
    "- `fine_tuning_job_id`: The ID of the fine-tuning job to list events for.\n",
    "- `limit`: The maximum number of events to retrieve (optional).\n",
    "- `after`: Identifier for the last event from the previous pagination request (optional).\n",
    "\n",
    "API documentation: https://platform.openai.com/docs/api-reference/fine-tuning/list-events"
   ]
  },
  {
   "cell_type": "code",
   "execution_count": 14,
   "metadata": {},
   "outputs": [
    {
     "name": "stdout",
     "output_type": "stream",
     "text": [
      "Created fine-tuning job: ftjob-9AunUqVfu5en9M7cIJeEAhEI\n",
      "Validating training file: file-I207HvFD4R6CEhjhURkIQn8H and validation file: file-cmpTcTZnqapeDwWQRt7fNNxv\n"
     ]
    }
   ],
   "source": [
    "response = client.fine_tuning.jobs.list_events(job_id)\n",
    "\n",
    "events = response.data\n",
    "events.reverse()\n",
    "\n",
    "for event in events:\n",
    "    print(event.message)"
   ]
  },
  {
   "cell_type": "markdown",
   "metadata": {},
   "source": [
    "## 4. Retrieve the fine-tuned model name\n",
    "When the fine-tune job is complete, you can retrieve the name of the fine-tuned model using the `client.fine_tuning.jobs.retrieve()` method. The method accepts the job ID as a parameter and returns the status of the job, including the name of the fine-tuned model.\n",
    "\n",
    "API documentation: https://platform.openai.com/docs/api-reference/fine-tuning/retrieve"
   ]
  },
  {
   "cell_type": "code",
   "execution_count": 17,
   "metadata": {},
   "outputs": [
    {
     "name": "stdout",
     "output_type": "stream",
     "text": [
      "Fine-tuned model ID: ft:gpt-3.5-turbo-0125:personal:via-api:9LFdbHOm\n"
     ]
    }
   ],
   "source": [
    "response = client.fine_tuning.jobs.retrieve(job_id)\n",
    "fine_tuned_model_id = response.fine_tuned_model\n",
    "\n",
    "if fine_tuned_model_id is None: \n",
    "    raise RuntimeError(\"Fine-tuned model ID not found. Your job has likely not been completed yet.\")\n",
    "\n",
    "print(\"Fine-tuned model ID:\", fine_tuned_model_id)"
   ]
  },
  {
   "cell_type": "markdown",
   "metadata": {},
   "source": [
    "## 5. Test the model\n",
    "Once the fine-tuning job is complete, you can test the model using the regular `client.chat.completions.create()` method and setting the `model` to the fine-tuned model ID retrieved in the previous step."
   ]
  },
  {
   "cell_type": "code",
   "execution_count": 18,
   "metadata": {},
   "outputs": [
    {
     "name": "stdout",
     "output_type": "stream",
     "text": [
      "{\"rating\": 4, \"Sentiment\": \"Delightful Dining\"}\n",
      "\n"
     ]
    }
   ],
   "source": [
    "test_messages = [\n",
    "    {\"role\": \"system\", \"content\": \"You are a restaurant review analyzer. Analyze the sentiment in the review provided. Output the rating value and the sentiment as JSON .\"},\n",
    "    {\"role\": \"user\", \"content\": \"Review: Decent food, slow service, beatutiful decor. Would return, maybe.\"}\n",
    "]\n",
    "\n",
    "response = client.chat.completions.create(\n",
    "    model=fine_tuned_model_id, \n",
    "    messages=test_messages, \n",
    "    temperature=0, \n",
    "    max_tokens=500\n",
    ")\n",
    "print(response.choices[0].message.content)"
   ]
  },
  {
   "cell_type": "markdown",
   "metadata": {},
   "source": [
    "## X. Cancel fine-tuning job\n",
    "If you need to cancel a fine-tuning job, you can use the `client.fine_tuning.jobs.cancel()` method. The method accepts the job ID as a parameter and cancels the job.\n",
    "(No active code example is provided for this because it could result in accidentally cancelling a job.)\n",
    "\n",
    "API documentation: https://platform.openai.com/docs/api-reference/fine-tuning/cancel"
   ]
  },
  {
   "cell_type": "markdown",
   "metadata": {},
   "source": []
  }
 ],
 "metadata": {
  "kernelspec": {
   "display_name": "Python 3",
   "language": "python",
   "name": "python3"
  },
  "language_info": {
   "codemirror_mode": {
    "name": "ipython",
    "version": 3
   },
   "file_extension": ".py",
   "mimetype": "text/x-python",
   "name": "python",
   "nbconvert_exporter": "python",
   "pygments_lexer": "ipython3",
   "version": "3.11.9"
  }
 },
 "nbformat": 4,
 "nbformat_minor": 2
}
